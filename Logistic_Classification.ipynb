{
  "metadata": {
    "kernelspec": {
      "language": "python",
      "display_name": "Python 3",
      "name": "python3"
    },
    "language_info": {
      "name": "python",
      "version": "3.10.14",
      "mimetype": "text/x-python",
      "codemirror_mode": {
        "name": "ipython",
        "version": 3
      },
      "pygments_lexer": "ipython3",
      "nbconvert_exporter": "python",
      "file_extension": ".py"
    },
    "kaggle": {
      "accelerator": "gpu",
      "dataSources": [
        {
          "sourceId": 320111,
          "sourceType": "datasetVersion",
          "datasetId": 134715
        }
      ],
      "dockerImageVersionId": 30762,
      "isInternetEnabled": true,
      "language": "python",
      "sourceType": "notebook",
      "isGpuEnabled": true
    },
    "colab": {
      "name": "NLP with IMDB: Classic Models (TF-IDF + BiLSTM)",
      "provenance": [],
      "include_colab_link": true
    }
  },
  "nbformat_minor": 0,
  "nbformat": 4,
  "cells": [
    {
      "cell_type": "markdown",
      "metadata": {
        "id": "view-in-github",
        "colab_type": "text"
      },
      "source": [
        "<a href=\"https://colab.research.google.com/github/i-ganza007/Sentiment_Analysis_Formative/blob/main/Logistic_Classification.ipynb\" target=\"_parent\"><img src=\"https://colab.research.google.com/assets/colab-badge.svg\" alt=\"Open In Colab\"/></a>"
      ]
    },
    {
      "cell_type": "code",
      "source": [
        "import numpy as np\n",
        "import pandas as pd\n",
        "import matplotlib.pyplot as plt\n",
        "from gensim.models import Word2Vec\n",
        "from sklearn.metrics import accuracy_score, precision_score, recall_score, f1_score, confusion_matrix\n",
        "\n",
        "import re\n",
        "import nltk\n",
        "from nltk.corpus import stopwords\n",
        "from nltk.tokenize import word_tokenize\n",
        "nltk.download('punkt')\n",
        "nltk.download('omw-1.4')\n",
        "nltk.download('stopwords')\n",
        "\n",
        "from sklearn.model_selection import train_test_split\n",
        "from sklearn.metrics import accuracy_score\n",
        "from sklearn.linear_model import LogisticRegression\n",
        "\n",
        "\n",
        "import tensorflow as tf\n",
        "from tensorflow.keras.preprocessing.text import Tokenizer\n",
        "from tensorflow.keras.preprocessing.sequence import pad_sequences\n",
        "from tensorflow.keras.models import Sequential\n",
        "from tensorflow.keras.layers import (\n",
        "    LSTM, Bidirectional, Dense, Dropout, Masking\n",
        ")\n",
        "from tensorflow.keras.optimizers import Adam\n",
        "from tensorflow.keras import regularizers\n",
        "from tensorflow.keras.callbacks import EarlyStopping\n"
      ],
      "metadata": {
        "trusted": true,
        "execution": {
          "iopub.status.busy": "2025-09-30T16:51:42.157804Z",
          "iopub.execute_input": "2025-09-30T16:51:42.158683Z",
          "iopub.status.idle": "2025-09-30T16:51:52.150847Z",
          "shell.execute_reply.started": "2025-09-30T16:51:42.158645Z",
          "shell.execute_reply": "2025-09-30T16:51:52.149909Z"
        },
        "id": "qtdjp7ThtQ92",
        "outputId": "b65e9cce-d6cd-4192-8879-098b40885242"
      },
      "outputs": [
        {
          "name": "stdout",
          "text": "[nltk_data] Downloading package punkt to /usr/share/nltk_data...\n[nltk_data]   Package punkt is already up-to-date!\n[nltk_data] Downloading package omw-1.4 to /usr/share/nltk_data...\n[nltk_data]   Package omw-1.4 is already up-to-date!\n[nltk_data] Downloading package stopwords to /usr/share/nltk_data...\n[nltk_data]   Package stopwords is already up-to-date!\n",
          "output_type": "stream"
        }
      ],
      "execution_count": null
    },
    {
      "cell_type": "code",
      "source": [
        "path = '/kaggle/input/imdb-dataset-of-50k-movie-reviews/IMDB Dataset.csv'\n",
        "df = pd.read_csv(path)\n",
        "\n",
        "df.head()"
      ],
      "metadata": {
        "trusted": true,
        "execution": {
          "iopub.status.busy": "2025-09-30T16:52:21.614283Z",
          "iopub.execute_input": "2025-09-30T16:52:21.614711Z",
          "iopub.status.idle": "2025-09-30T16:52:22.343129Z",
          "shell.execute_reply.started": "2025-09-30T16:52:21.614676Z",
          "shell.execute_reply": "2025-09-30T16:52:22.342009Z"
        },
        "id": "YOXfMaELtQ92",
        "outputId": "e24bab7c-3ce9-4d73-b9e3-81a099619843"
      },
      "outputs": [
        {
          "execution_count": 4,
          "output_type": "execute_result",
          "data": {
            "text/plain": "                                              review sentiment\n0  One of the other reviewers has mentioned that ...  positive\n1  A wonderful little production. <br /><br />The...  positive\n2  I thought this was a wonderful way to spend ti...  positive\n3  Basically there's a family where a little boy ...  negative\n4  Petter Mattei's \"Love in the Time of Money\" is...  positive",
            "text/html": "<div>\n<style scoped>\n    .dataframe tbody tr th:only-of-type {\n        vertical-align: middle;\n    }\n\n    .dataframe tbody tr th {\n        vertical-align: top;\n    }\n\n    .dataframe thead th {\n        text-align: right;\n    }\n</style>\n<table border=\"1\" class=\"dataframe\">\n  <thead>\n    <tr style=\"text-align: right;\">\n      <th></th>\n      <th>review</th>\n      <th>sentiment</th>\n    </tr>\n  </thead>\n  <tbody>\n    <tr>\n      <th>0</th>\n      <td>One of the other reviewers has mentioned that ...</td>\n      <td>positive</td>\n    </tr>\n    <tr>\n      <th>1</th>\n      <td>A wonderful little production. &lt;br /&gt;&lt;br /&gt;The...</td>\n      <td>positive</td>\n    </tr>\n    <tr>\n      <th>2</th>\n      <td>I thought this was a wonderful way to spend ti...</td>\n      <td>positive</td>\n    </tr>\n    <tr>\n      <th>3</th>\n      <td>Basically there's a family where a little boy ...</td>\n      <td>negative</td>\n    </tr>\n    <tr>\n      <th>4</th>\n      <td>Petter Mattei's \"Love in the Time of Money\" is...</td>\n      <td>positive</td>\n    </tr>\n  </tbody>\n</table>\n</div>"
          },
          "metadata": {}
        }
      ],
      "execution_count": null
    },
    {
      "cell_type": "code",
      "source": [
        "stop_words = set(stopwords.words('english'))\n",
        "\n",
        "def preprocess_text(text):\n",
        "    text = text.lower()\n",
        "    text = re.sub(r'<.*?>', '', text)\n",
        "    text = re.sub(r'http\\S+|www\\S+', '', text)\n",
        "    text = re.sub(r'[^a-z\\s]', '', text)\n",
        "    text = re.sub(r'\\s+', ' ', text).strip()\n",
        "    tokens = text.split()\n",
        "    tokens = [word for word in tokens if word not in stop_words]\n",
        "    return \" \".join(tokens)\n",
        "\n",
        "df['clean_review'] = df['review'].apply(preprocess_text)\n",
        "\n",
        "df[['review', 'clean_review']].head()\n"
      ],
      "metadata": {
        "trusted": true,
        "execution": {
          "iopub.status.busy": "2025-09-30T16:53:07.425537Z",
          "iopub.execute_input": "2025-09-30T16:53:07.42599Z",
          "iopub.status.idle": "2025-09-30T16:53:15.132745Z",
          "shell.execute_reply.started": "2025-09-30T16:53:07.425956Z",
          "shell.execute_reply": "2025-09-30T16:53:15.131619Z"
        },
        "id": "JIAESOfLtQ94",
        "outputId": "8ab3077a-f704-4daa-b3fc-ec19bf84a0fd"
      },
      "outputs": [
        {
          "execution_count": 5,
          "output_type": "execute_result",
          "data": {
            "text/plain": "                                              review  \\\n0  One of the other reviewers has mentioned that ...   \n1  A wonderful little production. <br /><br />The...   \n2  I thought this was a wonderful way to spend ti...   \n3  Basically there's a family where a little boy ...   \n4  Petter Mattei's \"Love in the Time of Money\" is...   \n\n                                        clean_review  \n0  one reviewers mentioned watching oz episode yo...  \n1  wonderful little production filming technique ...  \n2  thought wonderful way spend time hot summer we...  \n3  basically theres family little boy jake thinks...  \n4  petter matteis love time money visually stunni...  ",
            "text/html": "<div>\n<style scoped>\n    .dataframe tbody tr th:only-of-type {\n        vertical-align: middle;\n    }\n\n    .dataframe tbody tr th {\n        vertical-align: top;\n    }\n\n    .dataframe thead th {\n        text-align: right;\n    }\n</style>\n<table border=\"1\" class=\"dataframe\">\n  <thead>\n    <tr style=\"text-align: right;\">\n      <th></th>\n      <th>review</th>\n      <th>clean_review</th>\n    </tr>\n  </thead>\n  <tbody>\n    <tr>\n      <th>0</th>\n      <td>One of the other reviewers has mentioned that ...</td>\n      <td>one reviewers mentioned watching oz episode yo...</td>\n    </tr>\n    <tr>\n      <th>1</th>\n      <td>A wonderful little production. &lt;br /&gt;&lt;br /&gt;The...</td>\n      <td>wonderful little production filming technique ...</td>\n    </tr>\n    <tr>\n      <th>2</th>\n      <td>I thought this was a wonderful way to spend ti...</td>\n      <td>thought wonderful way spend time hot summer we...</td>\n    </tr>\n    <tr>\n      <th>3</th>\n      <td>Basically there's a family where a little boy ...</td>\n      <td>basically theres family little boy jake thinks...</td>\n    </tr>\n    <tr>\n      <th>4</th>\n      <td>Petter Mattei's \"Love in the Time of Money\" is...</td>\n      <td>petter matteis love time money visually stunni...</td>\n    </tr>\n  </tbody>\n</table>\n</div>"
          },
          "metadata": {}
        }
      ],
      "execution_count": null
    },
    {
      "cell_type": "code",
      "source": [
        "df['sentiment'] = df['sentiment'].map({'negative': 0, 'positive': 1})"
      ],
      "metadata": {
        "trusted": true,
        "execution": {
          "iopub.status.busy": "2025-09-30T16:53:24.192114Z",
          "iopub.execute_input": "2025-09-30T16:53:24.193091Z",
          "iopub.status.idle": "2025-09-30T16:53:24.20291Z",
          "shell.execute_reply.started": "2025-09-30T16:53:24.193049Z",
          "shell.execute_reply": "2025-09-30T16:53:24.201683Z"
        },
        "id": "bBTMPwArtQ94"
      },
      "outputs": [],
      "execution_count": null
    },
    {
      "cell_type": "code",
      "source": [
        "train_df, test_df = train_test_split(df, test_size=0.2, random_state=42, stratify=df['sentiment'])\n",
        "\n",
        "train_df, val_df = train_test_split(train_df, test_size=0.2, random_state=42, stratify=train_df['sentiment'])\n",
        "\n",
        "print(f\"Train size: {len(train_df)}\")\n",
        "print(f\"Validation size: {len(val_df)}\")\n",
        "print(f\"Test size: {len(test_df)}\")\n"
      ],
      "metadata": {
        "trusted": true,
        "execution": {
          "iopub.status.busy": "2025-09-30T16:53:32.718598Z",
          "iopub.execute_input": "2025-09-30T16:53:32.719757Z",
          "iopub.status.idle": "2025-09-30T16:53:32.775692Z",
          "shell.execute_reply.started": "2025-09-30T16:53:32.719709Z",
          "shell.execute_reply": "2025-09-30T16:53:32.774578Z"
        },
        "id": "yPcmJK-btQ94",
        "outputId": "77caad76-8d00-483e-e2fe-1b321893eb19"
      },
      "outputs": [
        {
          "name": "stdout",
          "text": "Train size: 32000\nValidation size: 8000\nTest size: 10000\n",
          "output_type": "stream"
        }
      ],
      "execution_count": null
    },
    {
      "cell_type": "code",
      "source": [
        "train_df['tokens'] = train_df['clean_review'].apply(word_tokenize)\n",
        "val_df['tokens'] = val_df['clean_review'].apply(word_tokenize)\n",
        "test_df['tokens'] = test_df['clean_review'].apply(word_tokenize)\n",
        "\n",
        "train_df[['clean_review', 'tokens']].head()\n"
      ],
      "metadata": {
        "trusted": true,
        "execution": {
          "iopub.status.busy": "2025-09-30T16:53:37.503569Z",
          "iopub.execute_input": "2025-09-30T16:53:37.503975Z",
          "iopub.status.idle": "2025-09-30T16:54:05.536128Z",
          "shell.execute_reply.started": "2025-09-30T16:53:37.503943Z",
          "shell.execute_reply": "2025-09-30T16:54:05.534982Z"
        },
        "id": "82ZJm5FGtQ94",
        "outputId": "f75ea111-fe5f-4cc5-cc47-e19f1461cd13"
      },
      "outputs": [
        {
          "execution_count": 8,
          "output_type": "execute_result",
          "data": {
            "text/plain": "                                            clean_review  \\\n26680  oh yes agree others describe appalling acting ...   \n16648  basic hook lincoln slow slowness represents th...   \n29967  utter trash im huge fan cusacks sole reason wa...   \n34122  meet cosmo jason priestley nerdy young bookie ...   \n823    dont know people criticise show muchit great f...   \n\n                                                  tokens  \n26680  [oh, yes, agree, others, describe, appalling, ...  \n16648  [basic, hook, lincoln, slow, slowness, represe...  \n29967  [utter, trash, im, huge, fan, cusacks, sole, r...  \n34122  [meet, cosmo, jason, priestley, nerdy, young, ...  \n823    [dont, know, people, criticise, show, muchit, ...  ",
            "text/html": "<div>\n<style scoped>\n    .dataframe tbody tr th:only-of-type {\n        vertical-align: middle;\n    }\n\n    .dataframe tbody tr th {\n        vertical-align: top;\n    }\n\n    .dataframe thead th {\n        text-align: right;\n    }\n</style>\n<table border=\"1\" class=\"dataframe\">\n  <thead>\n    <tr style=\"text-align: right;\">\n      <th></th>\n      <th>clean_review</th>\n      <th>tokens</th>\n    </tr>\n  </thead>\n  <tbody>\n    <tr>\n      <th>26680</th>\n      <td>oh yes agree others describe appalling acting ...</td>\n      <td>[oh, yes, agree, others, describe, appalling, ...</td>\n    </tr>\n    <tr>\n      <th>16648</th>\n      <td>basic hook lincoln slow slowness represents th...</td>\n      <td>[basic, hook, lincoln, slow, slowness, represe...</td>\n    </tr>\n    <tr>\n      <th>29967</th>\n      <td>utter trash im huge fan cusacks sole reason wa...</td>\n      <td>[utter, trash, im, huge, fan, cusacks, sole, r...</td>\n    </tr>\n    <tr>\n      <th>34122</th>\n      <td>meet cosmo jason priestley nerdy young bookie ...</td>\n      <td>[meet, cosmo, jason, priestley, nerdy, young, ...</td>\n    </tr>\n    <tr>\n      <th>823</th>\n      <td>dont know people criticise show muchit great f...</td>\n      <td>[dont, know, people, criticise, show, muchit, ...</td>\n    </tr>\n  </tbody>\n</table>\n</div>"
          },
          "metadata": {}
        }
      ],
      "execution_count": null
    },
    {
      "cell_type": "code",
      "source": [
        "from sklearn.feature_extraction.text import TfidfVectorizer\n",
        "\n",
        "train_texts = train_df['tokens'].apply(lambda x: ' '.join(x))\n",
        "val_texts = val_df['tokens'].apply(lambda x: ' '.join(x))\n",
        "test_texts = test_df['tokens'].apply(lambda x: ' '.join(x))\n",
        "\n",
        "tfidf = TfidfVectorizer(max_features=5000)\n",
        "\n",
        "X_train_tfidf = tfidf.fit_transform(train_texts)\n",
        "\n",
        "X_val_tfidf = tfidf.transform(val_texts)\n",
        "X_test_tfidf = tfidf.transform(test_texts)"
      ],
      "metadata": {
        "trusted": true,
        "execution": {
          "iopub.status.busy": "2025-09-30T17:26:59.218396Z",
          "iopub.execute_input": "2025-09-30T17:26:59.21984Z",
          "iopub.status.idle": "2025-09-30T17:27:05.071196Z",
          "shell.execute_reply.started": "2025-09-30T17:26:59.219795Z",
          "shell.execute_reply": "2025-09-30T17:27:05.070093Z"
        },
        "id": "irLXf66KtQ95"
      },
      "outputs": [],
      "execution_count": null
    },
    {
      "cell_type": "code",
      "source": [
        "log_reg = LogisticRegression(max_iter=250, C=0.1, penalty='l2')\n",
        "log_reg.fit(X_train_tfidf, train_df['sentiment'])\n",
        "\n",
        "log_train_preds = log_reg.predict(X_train_tfidf)\n",
        "train_accuracy = accuracy_score(train_df['sentiment'], log_train_preds)\n",
        "\n",
        "log_val_preds = log_reg.predict(X_val_tfidf)\n",
        "val_accuracy = accuracy_score(val_df['sentiment'], log_val_preds)\n",
        "\n",
        "print(f\"Train Accuracy: {train_accuracy:.4f}\")\n",
        "print(f\"Validation Accuracy: {val_accuracy:.4f}\")"
      ],
      "metadata": {
        "trusted": true,
        "execution": {
          "iopub.status.busy": "2025-09-30T17:27:42.255621Z",
          "iopub.execute_input": "2025-09-30T17:27:42.256582Z",
          "iopub.status.idle": "2025-09-30T17:27:42.707437Z",
          "shell.execute_reply.started": "2025-09-30T17:27:42.256545Z",
          "shell.execute_reply": "2025-09-30T17:27:42.706353Z"
        },
        "id": "ktw17oj3tQ95",
        "outputId": "7f4a22aa-400b-4b52-9542-c5f51ebeadac"
      },
      "outputs": [
        {
          "name": "stdout",
          "text": "Train Accuracy: 0.8768\nValidation Accuracy: 0.8698\n",
          "output_type": "stream"
        }
      ],
      "execution_count": null
    },
    {
      "cell_type": "code",
      "source": [
        "logistic_probs = log_reg.predict_proba(X_test_tfidf)[:, 1]\n",
        "logistic_preds = log_reg.predict(X_test_tfidf)"
      ],
      "metadata": {
        "trusted": true,
        "execution": {
          "iopub.status.busy": "2025-09-30T17:38:19.449201Z",
          "iopub.execute_input": "2025-09-30T17:38:19.449738Z",
          "iopub.status.idle": "2025-09-30T17:38:19.458225Z",
          "shell.execute_reply.started": "2025-09-30T17:38:19.449702Z",
          "shell.execute_reply": "2025-09-30T17:38:19.45725Z"
        },
        "id": "feEMb2vZtQ97"
      },
      "outputs": [],
      "execution_count": null
    },
    {
      "cell_type": "code",
      "source": [
        "y_true = test_df['sentiment']\n",
        "\n",
        "# Metrics\n",
        "acc  = accuracy_score(y_true, logistic_preds)\n",
        "prec = precision_score(y_true, logistic_preds)\n",
        "rec  = recall_score(y_true, logistic_preds)\n",
        "f1   = f1_score(y_true, logistic_preds)\n",
        "auc  = roc_auc_score(y_true, logistic_probs)  # now works\n",
        "cm   = confusion_matrix(y_true, logistic_preds)\n",
        "\n",
        "print(f\"Accuracy:  {acc:.4f}\")\n",
        "print(f\"Precision: {prec:.4f}\")\n",
        "print(f\"Recall:    {rec:.4f}\")\n",
        "print(f\"F1-score:  {f1:.4f}\")\n",
        "print(f\"AUC:       {auc:.4f}\")\n",
        "\n",
        "print(\"Confusion Matrix:\")\n",
        "print(cm)\n",
        "\n",
        "print(\"Classification Report:\")\n",
        "print(classification_report(y_true, logistic_preds, target_names=['Negative','Positive']))"
      ],
      "metadata": {
        "trusted": true,
        "execution": {
          "iopub.status.busy": "2025-09-30T17:38:46.605838Z",
          "iopub.execute_input": "2025-09-30T17:38:46.606554Z",
          "iopub.status.idle": "2025-09-30T17:38:46.641648Z",
          "shell.execute_reply.started": "2025-09-30T17:38:46.606496Z",
          "shell.execute_reply": "2025-09-30T17:38:46.640629Z"
        },
        "id": "EAfyUPxYtQ97",
        "outputId": "8c41cdfa-5264-4d32-f9da-1abf340016ca"
      },
      "outputs": [
        {
          "name": "stdout",
          "text": "Accuracy:  0.8692\nPrecision: 0.8560\nRecall:    0.8878\nF1-score:  0.8716\nAUC:       0.9438\nConfusion Matrix:\n[[4253  747]\n [ 561 4439]]\nClassification Report:\n              precision    recall  f1-score   support\n\n    Negative       0.88      0.85      0.87      5000\n    Positive       0.86      0.89      0.87      5000\n\n    accuracy                           0.87     10000\n   macro avg       0.87      0.87      0.87     10000\nweighted avg       0.87      0.87      0.87     10000\n\n",
          "output_type": "stream"
        }
      ],
      "execution_count": null
    }
  ]
}