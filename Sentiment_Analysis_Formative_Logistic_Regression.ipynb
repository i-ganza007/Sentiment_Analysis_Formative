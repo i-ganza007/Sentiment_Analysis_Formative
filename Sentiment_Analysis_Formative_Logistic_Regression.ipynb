{
  "nbformat": 4,
  "nbformat_minor": 0,
  "metadata": {
    "colab": {
      "provenance": [],
      "gpuType": "T4"
    },
    "kernelspec": {
      "name": "python3",
      "display_name": "Python 3"
    },
    "language_info": {
      "name": "python"
    },
    "accelerator": "GPU"
  },
  "cells": [
    {
      "cell_type": "code",
      "execution_count": 2,
      "metadata": {
        "id": "a_U6J29SBHHu"
      },
      "outputs": [],
      "source": [
        "# importing necessary libraries\n",
        "import re\n",
        "import pandas as pd\n",
        "from sklearn.model_selection import train_test_split, GridSearchCV\n",
        "from sklearn.pipeline import Pipeline\n",
        "from sklearn.linear_model import LogisticRegression\n",
        "from sklearn.feature_extraction.text import TfidfVectorizer\n",
        "from sklearn.metrics import (\n",
        "    accuracy_score, precision_score, recall_score,\n",
        "    f1_score, roc_auc_score, confusion_matrix, classification_report\n",
        ")\n",
        "from nltk.corpus import stopwords\n",
        "import nltk"
      ]
    },
    {
      "cell_type": "code",
      "source": [
        "# download required NLTK data\n",
        "nltk.download('stopwords', quiet=True)\n",
        "STOP_WORDS = set(stopwords.words('english'))\n",
        "\n",
        "def clean_text(text: str) -> str:\n",
        "    text = text.lower()\n",
        "    text = re.sub(r'<.*?>', ' ', text)\n",
        "    text = re.sub(r'http\\S+|www\\S+', ' ', text)\n",
        "    text = re.sub(r'[^a-z\\s]', ' ', text)\n",
        "    text = re.sub(r'\\s+', ' ', text).strip()\n",
        "    tokens = [w for w in text.split() if w not in STOP_WORDS]\n",
        "    return \" \".join(tokens)"
      ],
      "metadata": {
        "id": "JlKj6flRC4rY"
      },
      "execution_count": 3,
      "outputs": []
    },
    {
      "cell_type": "code",
      "source": [
        "# Load\n",
        "df = pd.read_csv(\"/content/drive/MyDrive/IMDB Dataset.csv\")\n",
        "df['sentiment'] = df['sentiment'].map({'negative': 0, 'positive': 1})\n",
        "df['clean_review'] = df['review'].apply(clean_text)\n",
        "\n",
        "X_train, X_test, y_train, y_test = train_test_split(\n",
        "    df['clean_review'],\n",
        "    df['sentiment'],\n",
        "    test_size=0.2,\n",
        "    random_state=42,\n",
        "    stratify=df['sentiment']\n",
        ")"
      ],
      "metadata": {
        "id": "qyx4kGctERu4"
      },
      "execution_count": 5,
      "outputs": []
    },
    {
      "cell_type": "code",
      "source": [
        "# Pipeline\n",
        "pipe = Pipeline([\n",
        "    ('tfidf', TfidfVectorizer(max_features=5000, ngram_range=(1,2))),\n",
        "    ('clf', LogisticRegression(solver='liblinear', random_state=42))\n",
        "])\n",
        "\n",
        "param_grid = {\n",
        "    'tfidf__max_features': [5000, 10000],\n",
        "    'clf__C': [0.5, 1.0, 2.0],\n",
        "    'clf__penalty': ['l1', 'l2']\n",
        "}"
      ],
      "metadata": {
        "id": "FCvXzbLvDfB5"
      },
      "execution_count": 6,
      "outputs": []
    },
    {
      "cell_type": "code",
      "source": [
        "grid = GridSearchCV(\n",
        "    pipe,\n",
        "    param_grid,\n",
        "    cv=3,\n",
        "    scoring='f1',\n",
        "    n_jobs=-1,\n",
        "    verbose=1\n",
        ")\n",
        "grid.fit(X_train, y_train)\n",
        "\n",
        "best_model = grid.best_estimator_"
      ],
      "metadata": {
        "colab": {
          "base_uri": "https://localhost:8080/"
        },
        "id": "VsKNnMnQEFeR",
        "outputId": "7e52fa8d-ed2c-494a-f114-aad9223f6b3e"
      },
      "execution_count": 7,
      "outputs": [
        {
          "output_type": "stream",
          "name": "stdout",
          "text": [
            "Fitting 3 folds for each of 12 candidates, totalling 36 fits\n"
          ]
        }
      ]
    },
    {
      "cell_type": "code",
      "source": [
        "# Evaluation\n",
        "y_pred = best_model.predict(X_test)\n",
        "y_prob = best_model.predict_proba(X_test)[:, 1]\n",
        "\n",
        "acc  = accuracy_score(y_test, y_pred)\n",
        "prec = precision_score(y_test, y_pred)\n",
        "rec  = recall_score(y_test, y_pred)\n",
        "f1   = f1_score(y_test, y_pred)\n",
        "auc  = roc_auc_score(y_test, y_prob)\n",
        "cm   = confusion_matrix(y_test, y_pred)\n",
        "\n",
        "print(f\"Test Accuracy : {acc:.4f}\")\n",
        "print(f\"Test Precision: {prec:.4f}\")\n",
        "print(f\"Test Recall   : {rec:.4f}\")\n",
        "print(f\"Test F1       : {f1:.4f}\")\n",
        "print(f\"Test AUC      : {auc:.4f}\")\n",
        "print(\"Confusion Matrix:\")\n",
        "print(cm)\n",
        "print(\"Classification Report:\")\n",
        "print(classification_report(y_test, y_pred, target_names=['Negative','Positive']))"
      ],
      "metadata": {
        "colab": {
          "base_uri": "https://localhost:8080/"
        },
        "id": "M59JaoRlHXhF",
        "outputId": "085f22bb-6136-4717-c9b9-334c9de6b12d"
      },
      "execution_count": 8,
      "outputs": [
        {
          "output_type": "stream",
          "name": "stdout",
          "text": [
            "Test Accuracy : 0.9001\n",
            "Test Precision: 0.8967\n",
            "Test Recall   : 0.9044\n",
            "Test F1       : 0.9005\n",
            "Test AUC      : 0.9641\n",
            "Confusion Matrix:\n",
            "[[4479  521]\n",
            " [ 478 4522]]\n",
            "Classification Report:\n",
            "              precision    recall  f1-score   support\n",
            "\n",
            "    Negative       0.90      0.90      0.90      5000\n",
            "    Positive       0.90      0.90      0.90      5000\n",
            "\n",
            "    accuracy                           0.90     10000\n",
            "   macro avg       0.90      0.90      0.90     10000\n",
            "weighted avg       0.90      0.90      0.90     10000\n",
            "\n"
          ]
        }
      ]
    }
  ]
}