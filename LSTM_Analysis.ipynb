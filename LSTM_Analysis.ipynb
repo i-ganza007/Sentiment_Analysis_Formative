{
  "metadata": {
    "kernelspec": {
      "language": "python",
      "display_name": "Python 3",
      "name": "python3"
    },
    "language_info": {
      "name": "python",
      "version": "3.11.13",
      "mimetype": "text/x-python",
      "codemirror_mode": {
        "name": "ipython",
        "version": 3
      },
      "pygments_lexer": "ipython3",
      "nbconvert_exporter": "python",
      "file_extension": ".py"
    },
    "kaggle": {
      "accelerator": "none",
      "dataSources": [
        {
          "sourceId": 13258043,
          "sourceType": "datasetVersion",
          "datasetId": 8401289
        }
      ],
      "dockerImageVersionId": 31089,
      "isInternetEnabled": true,
      "language": "python",
      "sourceType": "notebook",
      "isGpuEnabled": false
    },
    "colab": {
      "name": "notebook002c8d49ec",
      "provenance": [],
      "include_colab_link": true
    }
  },
  "nbformat_minor": 0,
  "nbformat": 4,
  "cells": [
    {
      "cell_type": "markdown",
      "metadata": {
        "id": "view-in-github",
        "colab_type": "text"
      },
      "source": [
        "<a href=\"https://colab.research.google.com/github/i-ganza007/Sentiment_Analysis_Formative/blob/main/LSTM_Analysis.ipynb\" target=\"_parent\"><img src=\"https://colab.research.google.com/assets/colab-badge.svg\" alt=\"Open In Colab\"/></a>"
      ]
    },
    {
      "source": [
        "# IMPORTANT: RUN THIS CELL IN ORDER TO IMPORT YOUR KAGGLE DATA SOURCES,\n",
        "# THEN FEEL FREE TO DELETE THIS CELL.\n",
        "# NOTE: THIS NOTEBOOK ENVIRONMENT DIFFERS FROM KAGGLE'S PYTHON\n",
        "# ENVIRONMENT SO THERE MAY BE MISSING LIBRARIES USED BY YOUR\n",
        "# NOTEBOOK.\n",
        "import kagglehub\n",
        "ianganza_imdb_sentiment_analysis_path = kagglehub.dataset_download('ianganza/imdb-sentiment-analysis')\n",
        "\n",
        "print('Data source import complete.')\n"
      ],
      "metadata": {
        "id": "c8nK45fI0D2p"
      },
      "cell_type": "code",
      "outputs": [],
      "execution_count": null
    },
    {
      "cell_type": "code",
      "source": [
        "!pip install gensim numpy==1.24.4\n",
        "import numpy as np\n",
        "import pandas as pd\n",
        "import matplotlib.pyplot as plt\n",
        "from gensim.models import Word2Vec\n",
        "from sklearn.metrics import accuracy_score, precision_score, recall_score, f1_score, confusion_matrix\n",
        "import re\n",
        "import nltk\n",
        "from nltk.corpus import stopwords\n",
        "from nltk.tokenize import word_tokenize\n",
        "nltk.download('punkt')\n",
        "nltk.download('omw-1.4')\n",
        "nltk.download('stopwords')\n",
        "from sklearn.model_selection import train_test_split\n",
        "from sklearn.metrics import accuracy_score\n",
        "from sklearn.linear_model import LogisticRegression\n",
        "import tensorflow as tf\n",
        "from tensorflow.keras.preprocessing.text import Tokenizer\n",
        "from tensorflow.keras.preprocessing.sequence import pad_sequences\n",
        "from tensorflow.keras.models import Sequential\n",
        "from tensorflow.keras.layers import (\n",
        "    LSTM, Bidirectional, Dense, Dropout, Masking\n",
        ")\n",
        "from tensorflow.keras.optimizers import Adam\n",
        "from tensorflow.keras import regularizers\n",
        "from tensorflow.keras.callbacks import EarlyStopping\n",
        "from sklearn.feature_extraction.text import TfidfVectorizer"
      ],
      "metadata": {
        "_uuid": "8f2839f25d086af736a60e9eeb907d3b93b6e0e5",
        "_cell_guid": "b1076dfc-b9ad-4769-8c92-a6c4dae69d19",
        "trusted": true,
        "execution": {
          "iopub.status.busy": "2025-10-04T08:55:26.319831Z",
          "iopub.execute_input": "2025-10-04T08:55:26.320161Z",
          "iopub.status.idle": "2025-10-04T08:56:43.872769Z",
          "shell.execute_reply.started": "2025-10-04T08:55:26.320131Z",
          "shell.execute_reply": "2025-10-04T08:56:43.871843Z"
        },
        "id": "nz5NcyuM0D2q",
        "outputId": "a8a7bc86-cb42-43d1-eee2-ffccc7302fc1"
      },
      "outputs": [
        {
          "name": "stdout",
          "text": "Requirement already satisfied: gensim in /usr/local/lib/python3.11/dist-packages (4.3.3)\nCollecting numpy==1.24.4\n  Downloading numpy-1.24.4-cp311-cp311-manylinux_2_17_x86_64.manylinux2014_x86_64.whl.metadata (5.6 kB)\nCollecting scipy<1.14.0,>=1.7.0 (from gensim)\n  Downloading scipy-1.13.1-cp311-cp311-manylinux_2_17_x86_64.manylinux2014_x86_64.whl.metadata (60 kB)\n\u001b[2K     \u001b[90m━━━━━━━━━━━━━━━━━━━━━━━━━━━━━━━━━━━━━━━━\u001b[0m \u001b[32m60.6/60.6 kB\u001b[0m \u001b[31m1.8 MB/s\u001b[0m eta \u001b[36m0:00:00\u001b[0m\n\u001b[?25hRequirement already satisfied: smart-open>=1.8.1 in /usr/local/lib/python3.11/dist-packages (from gensim) (7.1.0)\nRequirement already satisfied: wrapt in /usr/local/lib/python3.11/dist-packages (from smart-open>=1.8.1->gensim) (1.17.2)\nDownloading numpy-1.24.4-cp311-cp311-manylinux_2_17_x86_64.manylinux2014_x86_64.whl (17.3 MB)\n\u001b[2K   \u001b[90m━━━━━━━━━━━━━━━━━━━━━━━━━━━━━━━━━━━━━━━━\u001b[0m \u001b[32m17.3/17.3 MB\u001b[0m \u001b[31m67.8 MB/s\u001b[0m eta \u001b[36m0:00:00\u001b[0m:00:01\u001b[0m00:01\u001b[0m\n\u001b[?25hDownloading scipy-1.13.1-cp311-cp311-manylinux_2_17_x86_64.manylinux2014_x86_64.whl (38.6 MB)\n\u001b[2K   \u001b[90m━━━━━━━━━━━━━━━━━━━━━━━━━━━━━━━━━━━━━━━━\u001b[0m \u001b[32m38.6/38.6 MB\u001b[0m \u001b[31m31.7 MB/s\u001b[0m eta \u001b[36m0:00:00\u001b[0m:00:01\u001b[0m00:01\u001b[0m\n\u001b[?25hInstalling collected packages: numpy, scipy\n  Attempting uninstall: numpy\n    Found existing installation: numpy 1.26.4\n    Uninstalling numpy-1.26.4:\n      Successfully uninstalled numpy-1.26.4\n  Attempting uninstall: scipy\n    Found existing installation: scipy 1.15.3\n    Uninstalling scipy-1.15.3:\n      Successfully uninstalled scipy-1.15.3\n\u001b[31mERROR: pip's dependency resolver does not currently take into account all the packages that are installed. This behaviour is the source of the following dependency conflicts.\nbigframes 2.8.0 requires google-cloud-bigquery-storage<3.0.0,>=2.30.0, which is not installed.\nmkl-umath 0.1.1 requires numpy<1.27.0,>=1.26.4, but you have numpy 1.24.4 which is incompatible.\nmkl-random 1.2.4 requires numpy<1.27.0,>=1.26.4, but you have numpy 1.24.4 which is incompatible.\nmkl-fft 1.3.8 requires numpy<1.27.0,>=1.26.4, but you have numpy 1.24.4 which is incompatible.\ndatasets 3.6.0 requires fsspec[http]<=2025.3.0,>=2023.1.0, but you have fsspec 2025.5.1 which is incompatible.\nwoodwork 0.31.0 requires numpy>=1.25.0, but you have numpy 1.24.4 which is incompatible.\nbayesian-optimization 3.0.0 requires numpy>=1.25; python_version < \"3.13\", but you have numpy 1.24.4 which is incompatible.\nonnx 1.18.0 requires protobuf>=4.25.1, but you have protobuf 3.20.3 which is incompatible.\nfeaturetools 1.31.0 requires numpy>=1.25.0, but you have numpy 1.24.4 which is incompatible.\ncesium 0.12.4 requires numpy<3.0,>=2.0, but you have numpy 1.24.4 which is incompatible.\ngoogle-colab 1.0.0 requires google-auth==2.38.0, but you have google-auth 2.40.3 which is incompatible.\ngoogle-colab 1.0.0 requires notebook==6.5.7, but you have notebook 6.5.4 which is incompatible.\ngoogle-colab 1.0.0 requires pandas==2.2.2, but you have pandas 2.2.3 which is incompatible.\ngoogle-colab 1.0.0 requires requests==2.32.3, but you have requests 2.32.4 which is incompatible.\ngoogle-colab 1.0.0 requires tornado==6.4.2, but you have tornado 6.5.1 which is incompatible.\njax 0.5.2 requires numpy>=1.25, but you have numpy 1.24.4 which is incompatible.\ntsfresh 0.21.0 requires scipy>=1.14.0; python_version >= \"3.10\", but you have scipy 1.13.1 which is incompatible.\ndopamine-rl 4.1.2 requires gymnasium>=1.0.0, but you have gymnasium 0.29.0 which is incompatible.\npandas-gbq 0.29.1 requires google-api-core<3.0.0,>=2.10.2, but you have google-api-core 1.34.1 which is incompatible.\nthinc 8.3.6 requires numpy<3.0.0,>=2.0.0, but you have numpy 1.24.4 which is incompatible.\ntreescope 0.1.9 requires numpy>=1.25.2, but you have numpy 1.24.4 which is incompatible.\nimbalanced-learn 0.13.0 requires scikit-learn<2,>=1.3.2, but you have scikit-learn 1.2.2 which is incompatible.\npymc 5.23.0 requires numpy>=1.25.0, but you have numpy 1.24.4 which is incompatible.\nblosc2 3.5.0 requires numpy>=1.26, but you have numpy 1.24.4 which is incompatible.\nxarray-einstats 0.9.1 requires numpy>=1.25, but you have numpy 1.24.4 which is incompatible.\nplotnine 0.14.5 requires matplotlib>=3.8.0, but you have matplotlib 3.7.2 which is incompatible.\ntensorflow 2.18.0 requires numpy<2.1.0,>=1.26.0, but you have numpy 1.24.4 which is incompatible.\nbigframes 2.8.0 requires google-cloud-bigquery[bqstorage,pandas]>=3.31.0, but you have google-cloud-bigquery 3.25.0 which is incompatible.\nbigframes 2.8.0 requires rich<14,>=12.4.4, but you have rich 14.0.0 which is incompatible.\njaxlib 0.5.1 requires numpy>=1.25, but you have numpy 1.24.4 which is incompatible.\nmlxtend 0.23.4 requires scikit-learn>=1.3.1, but you have scikit-learn 1.2.2 which is incompatible.\u001b[0m\u001b[31m\n\u001b[0mSuccessfully installed numpy-1.24.4 scipy-1.13.1\n",
          "output_type": "stream"
        },
        {
          "name": "stderr",
          "text": "[nltk_data] Downloading package punkt to /usr/share/nltk_data...\n[nltk_data]   Package punkt is already up-to-date!\n[nltk_data] Downloading package omw-1.4 to /usr/share/nltk_data...\n[nltk_data] Downloading package stopwords to /usr/share/nltk_data...\n[nltk_data]   Package stopwords is already up-to-date!\n2025-10-04 08:56:28.742277: E external/local_xla/xla/stream_executor/cuda/cuda_fft.cc:477] Unable to register cuFFT factory: Attempting to register factory for plugin cuFFT when one has already been registered\nWARNING: All log messages before absl::InitializeLog() is called are written to STDERR\nE0000 00:00:1759568189.081220      36 cuda_dnn.cc:8310] Unable to register cuDNN factory: Attempting to register factory for plugin cuDNN when one has already been registered\nE0000 00:00:1759568189.170260      36 cuda_blas.cc:1418] Unable to register cuBLAS factory: Attempting to register factory for plugin cuBLAS when one has already been registered\n",
          "output_type": "stream"
        }
      ],
      "execution_count": null
    },
    {
      "cell_type": "code",
      "source": [
        "data = '/kaggle/input/imdb-sentiment-analysis/IMDB Dataset.csv'\n",
        "df = pd.read_csv(data)\n",
        "df.head()"
      ],
      "metadata": {
        "trusted": true,
        "execution": {
          "iopub.status.busy": "2025-10-04T08:56:59.34335Z",
          "iopub.execute_input": "2025-10-04T08:56:59.343703Z",
          "iopub.status.idle": "2025-10-04T08:57:00.937605Z",
          "shell.execute_reply.started": "2025-10-04T08:56:59.343668Z",
          "shell.execute_reply": "2025-10-04T08:57:00.93691Z"
        },
        "id": "nIZTawmb0D2q",
        "outputId": "e729c291-52cc-4414-ee43-cc92ab801e80"
      },
      "outputs": [
        {
          "execution_count": 2,
          "output_type": "execute_result",
          "data": {
            "text/plain": "                                              review sentiment\n0  One of the other reviewers has mentioned that ...  positive\n1  A wonderful little production. <br /><br />The...  positive\n2  I thought this was a wonderful way to spend ti...  positive\n3  Basically there's a family where a little boy ...  negative\n4  Petter Mattei's \"Love in the Time of Money\" is...  positive",
            "text/html": "<div>\n<style scoped>\n    .dataframe tbody tr th:only-of-type {\n        vertical-align: middle;\n    }\n\n    .dataframe tbody tr th {\n        vertical-align: top;\n    }\n\n    .dataframe thead th {\n        text-align: right;\n    }\n</style>\n<table border=\"1\" class=\"dataframe\">\n  <thead>\n    <tr style=\"text-align: right;\">\n      <th></th>\n      <th>review</th>\n      <th>sentiment</th>\n    </tr>\n  </thead>\n  <tbody>\n    <tr>\n      <th>0</th>\n      <td>One of the other reviewers has mentioned that ...</td>\n      <td>positive</td>\n    </tr>\n    <tr>\n      <th>1</th>\n      <td>A wonderful little production. &lt;br /&gt;&lt;br /&gt;The...</td>\n      <td>positive</td>\n    </tr>\n    <tr>\n      <th>2</th>\n      <td>I thought this was a wonderful way to spend ti...</td>\n      <td>positive</td>\n    </tr>\n    <tr>\n      <th>3</th>\n      <td>Basically there's a family where a little boy ...</td>\n      <td>negative</td>\n    </tr>\n    <tr>\n      <th>4</th>\n      <td>Petter Mattei's \"Love in the Time of Money\" is...</td>\n      <td>positive</td>\n    </tr>\n  </tbody>\n</table>\n</div>"
          },
          "metadata": {}
        }
      ],
      "execution_count": null
    },
    {
      "cell_type": "code",
      "source": [
        "df.isna().sum()"
      ],
      "metadata": {
        "trusted": true,
        "execution": {
          "iopub.status.busy": "2025-10-04T08:57:12.715124Z",
          "iopub.execute_input": "2025-10-04T08:57:12.715413Z",
          "iopub.status.idle": "2025-10-04T08:57:12.733227Z",
          "shell.execute_reply.started": "2025-10-04T08:57:12.715394Z",
          "shell.execute_reply": "2025-10-04T08:57:12.732249Z"
        },
        "id": "V-0r5Dd50D2s",
        "outputId": "d60a9b2a-ec89-4f94-e536-ada70888bbad"
      },
      "outputs": [
        {
          "execution_count": 3,
          "output_type": "execute_result",
          "data": {
            "text/plain": "review       0\nsentiment    0\ndtype: int64"
          },
          "metadata": {}
        }
      ],
      "execution_count": null
    },
    {
      "cell_type": "code",
      "source": [
        "df.isnull().sum()"
      ],
      "metadata": {
        "trusted": true,
        "execution": {
          "iopub.status.busy": "2025-10-04T08:57:22.699219Z",
          "iopub.execute_input": "2025-10-04T08:57:22.700058Z",
          "iopub.status.idle": "2025-10-04T08:57:22.717385Z",
          "shell.execute_reply.started": "2025-10-04T08:57:22.700019Z",
          "shell.execute_reply": "2025-10-04T08:57:22.716616Z"
        },
        "id": "_plBDDmn0D2s",
        "outputId": "32e90bc1-3049-477f-eab1-5e398f5076d0"
      },
      "outputs": [
        {
          "execution_count": 4,
          "output_type": "execute_result",
          "data": {
            "text/plain": "review       0\nsentiment    0\ndtype: int64"
          },
          "metadata": {}
        }
      ],
      "execution_count": null
    },
    {
      "cell_type": "code",
      "source": [
        "stop_words = set(stopwords.words('english'))\n",
        "\n",
        "def preprocess_text(text):\n",
        "    text = text.lower()\n",
        "    text = re.sub(r'<.*?>', '', text)\n",
        "    text = re.sub(r'http\\S+|www\\S+', '', text)\n",
        "    text = re.sub(r'[^a-z\\s]', '', text)\n",
        "    text = re.sub(r'\\s+', ' ', text).strip()\n",
        "    tokens = text.split()\n",
        "    tokens = [word for word in tokens if word not in stop_words]\n",
        "    return \" \".join(tokens)\n",
        "\n",
        "df['clean_rev'] = df['review'].apply(preprocess_text)\n",
        "\n",
        "df[['review', 'clean_rev']].head()"
      ],
      "metadata": {
        "trusted": true,
        "execution": {
          "iopub.status.busy": "2025-10-04T08:57:34.592711Z",
          "iopub.execute_input": "2025-10-04T08:57:34.593065Z",
          "iopub.status.idle": "2025-10-04T08:57:42.868456Z",
          "shell.execute_reply.started": "2025-10-04T08:57:34.593032Z",
          "shell.execute_reply": "2025-10-04T08:57:42.86737Z"
        },
        "id": "rI_7HhMl0D2t",
        "outputId": "a2f1a360-876b-41d4-d998-fc1cf27c479a"
      },
      "outputs": [
        {
          "execution_count": 5,
          "output_type": "execute_result",
          "data": {
            "text/plain": "                                              review  \\\n0  One of the other reviewers has mentioned that ...   \n1  A wonderful little production. <br /><br />The...   \n2  I thought this was a wonderful way to spend ti...   \n3  Basically there's a family where a little boy ...   \n4  Petter Mattei's \"Love in the Time of Money\" is...   \n\n                                           clean_rev  \n0  one reviewers mentioned watching oz episode yo...  \n1  wonderful little production filming technique ...  \n2  thought wonderful way spend time hot summer we...  \n3  basically theres family little boy jake thinks...  \n4  petter matteis love time money visually stunni...  ",
            "text/html": "<div>\n<style scoped>\n    .dataframe tbody tr th:only-of-type {\n        vertical-align: middle;\n    }\n\n    .dataframe tbody tr th {\n        vertical-align: top;\n    }\n\n    .dataframe thead th {\n        text-align: right;\n    }\n</style>\n<table border=\"1\" class=\"dataframe\">\n  <thead>\n    <tr style=\"text-align: right;\">\n      <th></th>\n      <th>review</th>\n      <th>clean_rev</th>\n    </tr>\n  </thead>\n  <tbody>\n    <tr>\n      <th>0</th>\n      <td>One of the other reviewers has mentioned that ...</td>\n      <td>one reviewers mentioned watching oz episode yo...</td>\n    </tr>\n    <tr>\n      <th>1</th>\n      <td>A wonderful little production. &lt;br /&gt;&lt;br /&gt;The...</td>\n      <td>wonderful little production filming technique ...</td>\n    </tr>\n    <tr>\n      <th>2</th>\n      <td>I thought this was a wonderful way to spend ti...</td>\n      <td>thought wonderful way spend time hot summer we...</td>\n    </tr>\n    <tr>\n      <th>3</th>\n      <td>Basically there's a family where a little boy ...</td>\n      <td>basically theres family little boy jake thinks...</td>\n    </tr>\n    <tr>\n      <th>4</th>\n      <td>Petter Mattei's \"Love in the Time of Money\" is...</td>\n      <td>petter matteis love time money visually stunni...</td>\n    </tr>\n  </tbody>\n</table>\n</div>"
          },
          "metadata": {}
        }
      ],
      "execution_count": null
    },
    {
      "cell_type": "code",
      "source": [
        "df['sentiment'] = df['sentiment'].map({'negative': 0, 'positive': 1})"
      ],
      "metadata": {
        "trusted": true,
        "execution": {
          "iopub.status.busy": "2025-10-04T08:57:56.206159Z",
          "iopub.execute_input": "2025-10-04T08:57:56.206558Z",
          "iopub.status.idle": "2025-10-04T08:57:56.218403Z",
          "shell.execute_reply.started": "2025-10-04T08:57:56.206529Z",
          "shell.execute_reply": "2025-10-04T08:57:56.217019Z"
        },
        "id": "cG8wUO9n0D2t"
      },
      "outputs": [],
      "execution_count": null
    },
    {
      "cell_type": "code",
      "source": [
        "train_df, test_df = train_test_split(df, test_size=0.2, random_state=42, stratify=df['sentiment'])\n",
        "train_sec_df, val_df = train_test_split(train_df, test_size=0.2, random_state=42, stratify=train_df['sentiment'])\n",
        "print(f\"Train size: {len(train_sec_df)}\")\n",
        "print(f\"Validation size: {len(val_df)}\")\n",
        "print(f\"Test size: {len(test_df)}\")\n",
        "\n"
      ],
      "metadata": {
        "trusted": true,
        "execution": {
          "iopub.status.busy": "2025-10-04T08:58:09.409112Z",
          "iopub.execute_input": "2025-10-04T08:58:09.409472Z",
          "iopub.status.idle": "2025-10-04T08:58:09.483746Z",
          "shell.execute_reply.started": "2025-10-04T08:58:09.40945Z",
          "shell.execute_reply": "2025-10-04T08:58:09.482472Z"
        },
        "id": "xCrgZkqj0D2t",
        "outputId": "82d3dd5f-bd1d-4bbd-aca5-101e1fc6cb76"
      },
      "outputs": [
        {
          "name": "stdout",
          "text": "Train size: 32000\nValidation size: 8000\nTest size: 10000\n",
          "output_type": "stream"
        }
      ],
      "execution_count": null
    },
    {
      "cell_type": "code",
      "source": [
        "import nltk\n",
        "train_sec_df['tokens'] = train_sec_df['clean_rev'].apply(word_tokenize)\n",
        "val_df['tokens'] = val_df['clean_rev'].apply(word_tokenize)\n",
        "test_df['tokens'] = test_df['clean_rev'].apply(word_tokenize)\n",
        "\n",
        "train_sec_df[['clean_rev', 'tokens']].head()\n",
        "\n"
      ],
      "metadata": {
        "trusted": true,
        "execution": {
          "iopub.status.busy": "2025-10-04T08:58:23.11493Z",
          "iopub.execute_input": "2025-10-04T08:58:23.115309Z",
          "iopub.status.idle": "2025-10-04T08:58:46.680345Z",
          "shell.execute_reply.started": "2025-10-04T08:58:23.115282Z",
          "shell.execute_reply": "2025-10-04T08:58:46.679456Z"
        },
        "id": "nSpEBVVz0D2u",
        "outputId": "6f02596d-cb68-45a1-bee1-173cf95da8e7"
      },
      "outputs": [
        {
          "execution_count": 8,
          "output_type": "execute_result",
          "data": {
            "text/plain": "                                               clean_rev  \\\n26680  oh yes agree others describe appalling acting ...   \n16648  basic hook lincoln slow slowness represents th...   \n29967  utter trash im huge fan cusacks sole reason wa...   \n34122  meet cosmo jason priestley nerdy young bookie ...   \n823    dont know people criticise show muchit great f...   \n\n                                                  tokens  \n26680  [oh, yes, agree, others, describe, appalling, ...  \n16648  [basic, hook, lincoln, slow, slowness, represe...  \n29967  [utter, trash, im, huge, fan, cusacks, sole, r...  \n34122  [meet, cosmo, jason, priestley, nerdy, young, ...  \n823    [dont, know, people, criticise, show, muchit, ...  ",
            "text/html": "<div>\n<style scoped>\n    .dataframe tbody tr th:only-of-type {\n        vertical-align: middle;\n    }\n\n    .dataframe tbody tr th {\n        vertical-align: top;\n    }\n\n    .dataframe thead th {\n        text-align: right;\n    }\n</style>\n<table border=\"1\" class=\"dataframe\">\n  <thead>\n    <tr style=\"text-align: right;\">\n      <th></th>\n      <th>clean_rev</th>\n      <th>tokens</th>\n    </tr>\n  </thead>\n  <tbody>\n    <tr>\n      <th>26680</th>\n      <td>oh yes agree others describe appalling acting ...</td>\n      <td>[oh, yes, agree, others, describe, appalling, ...</td>\n    </tr>\n    <tr>\n      <th>16648</th>\n      <td>basic hook lincoln slow slowness represents th...</td>\n      <td>[basic, hook, lincoln, slow, slowness, represe...</td>\n    </tr>\n    <tr>\n      <th>29967</th>\n      <td>utter trash im huge fan cusacks sole reason wa...</td>\n      <td>[utter, trash, im, huge, fan, cusacks, sole, r...</td>\n    </tr>\n    <tr>\n      <th>34122</th>\n      <td>meet cosmo jason priestley nerdy young bookie ...</td>\n      <td>[meet, cosmo, jason, priestley, nerdy, young, ...</td>\n    </tr>\n    <tr>\n      <th>823</th>\n      <td>dont know people criticise show muchit great f...</td>\n      <td>[dont, know, people, criticise, show, muchit, ...</td>\n    </tr>\n  </tbody>\n</table>\n</div>"
          },
          "metadata": {}
        }
      ],
      "execution_count": null
    },
    {
      "cell_type": "code",
      "source": [
        "w2v_model = Word2Vec(sentences=train_sec_df['tokens'], vector_size=200, window=6, min_count=2)\n",
        "\n",
        "def tokens_to_sequence(tokens):\n",
        "    vectors = [w2v_model.wv[word] for word in tokens if word in w2v_model.wv]\n",
        "    return vectors\n",
        "\n",
        "X_train_seq_w2v = train_sec_df['tokens'].apply(tokens_to_sequence).tolist()\n",
        "X_val_seq_w2v = val_df['tokens'].apply(tokens_to_sequence).tolist()\n",
        "X_test_seq_w2v = test_df['tokens'].apply(tokens_to_sequence).tolist()"
      ],
      "metadata": {
        "trusted": true,
        "execution": {
          "iopub.status.busy": "2025-10-04T08:58:59.420033Z",
          "iopub.execute_input": "2025-10-04T08:58:59.420372Z",
          "iopub.status.idle": "2025-10-04T08:59:39.56275Z",
          "shell.execute_reply.started": "2025-10-04T08:58:59.420348Z",
          "shell.execute_reply": "2025-10-04T08:59:39.561901Z"
        },
        "id": "yGlxwbta0D2v"
      },
      "outputs": [],
      "execution_count": null
    },
    {
      "cell_type": "code",
      "source": [
        "max_len = 100\n",
        "vector_size = 200\n",
        "\n",
        "X_train_seq_padded = pad_sequences(X_train_seq_w2v, maxlen=max_len,\n",
        "                                   dtype='float32',padding='post',\n",
        "                                   truncating='post', value=0.0)\n",
        "X_val_seq_padded = pad_sequences(X_val_seq_w2v, maxlen=max_len,\n",
        "                                 dtype='float32',padding='post',\n",
        "                                 truncating='post', value=0.0)\n",
        "X_test_seq_padded = pad_sequences(X_test_seq_w2v, maxlen=max_len,\n",
        "                                  dtype='float32',padding='post',\n",
        "                                  truncating='post', value=0.0)\n",
        "\n"
      ],
      "metadata": {
        "trusted": true,
        "execution": {
          "iopub.status.busy": "2025-10-04T09:03:02.848507Z",
          "iopub.execute_input": "2025-10-04T09:03:02.849821Z",
          "iopub.status.idle": "2025-10-04T09:03:07.043818Z",
          "shell.execute_reply.started": "2025-10-04T09:03:02.849774Z",
          "shell.execute_reply": "2025-10-04T09:03:07.042724Z"
        },
        "id": "xPnzoPXs0D2v"
      },
      "outputs": [],
      "execution_count": null
    },
    {
      "cell_type": "code",
      "source": [
        "model = Sequential([\n",
        "    Masking(mask_value=0.0, input_shape=(max_len, vector_size)),\n",
        "    Bidirectional(LSTM(256, return_sequences=True,\n",
        "                       kernel_regularizer=regularizers.l2(0.0005))),\n",
        "    Dropout(0.4),\n",
        "    Bidirectional(LSTM(128, kernel_regularizer=regularizers.l2(0.0005))),\n",
        "    Dropout(0.4),\n",
        "    Dense(64, activation='relu', kernel_regularizer=regularizers.l2(0.0005)),\n",
        "    Dropout(0.4),\n",
        "    Dense(32, activation='relu', kernel_regularizer=regularizers.l2(0.0005)),\n",
        "    Dropout(0.4),\n",
        "    Dense(1, activation='sigmoid')\n",
        "])\n",
        "\n",
        "model.compile(loss='binary_crossentropy',\n",
        "              optimizer= Adam(learning_rate=0.001),\n",
        "              metrics=['accuracy'])\n",
        "\n",
        "history = model.fit(X_train_seq_padded,\n",
        "                    train_sec_df['sentiment'].values,\n",
        "                    epochs=10,\n",
        "                    batch_size=64,\n",
        "                    validation_data=(X_val_seq_padded, val_df['sentiment'].values))"
      ],
      "metadata": {
        "trusted": true,
        "execution": {
          "iopub.status.busy": "2025-10-04T09:03:11.381389Z",
          "iopub.execute_input": "2025-10-04T09:03:11.381726Z",
          "iopub.status.idle": "2025-10-04T10:27:49.105728Z",
          "shell.execute_reply.started": "2025-10-04T09:03:11.3817Z",
          "shell.execute_reply": "2025-10-04T10:27:49.102278Z"
        },
        "id": "FVOL8ptx0D2v",
        "outputId": "05bca100-4178-496a-b324-58551f200fd0"
      },
      "outputs": [
        {
          "name": "stdout",
          "text": "Epoch 1/10\n\u001b[1m500/500\u001b[0m \u001b[32m━━━━━━━━━━━━━━━━━━━━\u001b[0m\u001b[37m\u001b[0m \u001b[1m537s\u001b[0m 1s/step - accuracy: 0.7582 - loss: 0.9680 - val_accuracy: 0.8390 - val_loss: 0.5183\nEpoch 2/10\n\u001b[1m500/500\u001b[0m \u001b[32m━━━━━━━━━━━━━━━━━━━━\u001b[0m\u001b[37m\u001b[0m \u001b[1m514s\u001b[0m 1s/step - accuracy: 0.8394 - loss: 0.5043 - val_accuracy: 0.8479 - val_loss: 0.4184\nEpoch 3/10\n\u001b[1m500/500\u001b[0m \u001b[32m━━━━━━━━━━━━━━━━━━━━\u001b[0m\u001b[37m\u001b[0m \u001b[1m512s\u001b[0m 1s/step - accuracy: 0.8508 - loss: 0.4294 - val_accuracy: 0.8485 - val_loss: 0.4074\nEpoch 4/10\n\u001b[1m500/500\u001b[0m \u001b[32m━━━━━━━━━━━━━━━━━━━━\u001b[0m\u001b[37m\u001b[0m \u001b[1m506s\u001b[0m 1s/step - accuracy: 0.8580 - loss: 0.3972 - val_accuracy: 0.8580 - val_loss: 0.3765\nEpoch 5/10\n\u001b[1m500/500\u001b[0m \u001b[32m━━━━━━━━━━━━━━━━━━━━\u001b[0m\u001b[37m\u001b[0m \u001b[1m506s\u001b[0m 1s/step - accuracy: 0.8664 - loss: 0.3806 - val_accuracy: 0.8596 - val_loss: 0.3716\nEpoch 6/10\n\u001b[1m500/500\u001b[0m \u001b[32m━━━━━━━━━━━━━━━━━━━━\u001b[0m\u001b[37m\u001b[0m \u001b[1m498s\u001b[0m 996ms/step - accuracy: 0.8641 - loss: 0.3718 - val_accuracy: 0.8699 - val_loss: 0.3532\nEpoch 7/10\n\u001b[1m500/500\u001b[0m \u001b[32m━━━━━━━━━━━━━━━━━━━━\u001b[0m\u001b[37m\u001b[0m \u001b[1m497s\u001b[0m 994ms/step - accuracy: 0.8729 - loss: 0.3581 - val_accuracy: 0.8683 - val_loss: 0.3558\nEpoch 8/10\n\u001b[1m500/500\u001b[0m \u001b[32m━━━━━━━━━━━━━━━━━━━━\u001b[0m\u001b[37m\u001b[0m \u001b[1m501s\u001b[0m 1s/step - accuracy: 0.8735 - loss: 0.3580 - val_accuracy: 0.8692 - val_loss: 0.3530\nEpoch 9/10\n\u001b[1m500/500\u001b[0m \u001b[32m━━━━━━━━━━━━━━━━━━━━\u001b[0m\u001b[37m\u001b[0m \u001b[1m504s\u001b[0m 1s/step - accuracy: 0.8741 - loss: 0.3535 - val_accuracy: 0.8635 - val_loss: 0.3603\nEpoch 10/10\n\u001b[1m500/500\u001b[0m \u001b[32m━━━━━━━━━━━━━━━━━━━━\u001b[0m\u001b[37m\u001b[0m \u001b[1m497s\u001b[0m 994ms/step - accuracy: 0.8817 - loss: 0.3464 - val_accuracy: 0.8680 - val_loss: 0.3575\n",
          "output_type": "stream"
        }
      ],
      "execution_count": null
    },
    {
      "cell_type": "code",
      "source": [
        "\n",
        "\n",
        "plt.plot(history.history['accuracy'], label='Training Accuracy')\n",
        "plt.plot(history.history['val_accuracy'], label='Validation Accuracy')\n",
        "plt.title('Training vs Validation Accuracy')\n",
        "plt.xlabel('Epochs')\n",
        "plt.ylabel('Accuracy')\n",
        "plt.legend()\n",
        "plt.show()\n",
        "\n"
      ],
      "metadata": {
        "trusted": true,
        "execution": {
          "iopub.status.busy": "2025-10-04T10:29:01.59032Z",
          "iopub.execute_input": "2025-10-04T10:29:01.59078Z",
          "iopub.status.idle": "2025-10-04T10:29:02.126816Z",
          "shell.execute_reply.started": "2025-10-04T10:29:01.590677Z",
          "shell.execute_reply": "2025-10-04T10:29:02.125794Z"
        },
        "id": "nIk0v_dk0D2v",
        "outputId": "e4b58c25-c45f-4ddf-b3c4-cdac2d2db31f"
      },
      "outputs": [
        {
          "output_type": "display_data",
          "data": {
            "text/plain": "<Figure size 640x480 with 1 Axes>",
            "image/png": "[encoded data removed]"
          },
          "metadata": {}
        }
      ],
      "execution_count": null
    },
    {
      "cell_type": "code",
      "source": [
        "from sklearn.metrics import classification_report\n",
        "\n",
        "print(classification_report(test_df['sentiment'].values,\n",
        "                            bilstm_preds,\n",
        "                            target_names=['Negative', 'Positive']))\n"
      ],
      "metadata": {
        "trusted": true,
        "execution": {
          "iopub.status.busy": "2025-10-04T10:39:16.116832Z",
          "iopub.execute_input": "2025-10-04T10:39:16.117214Z",
          "iopub.status.idle": "2025-10-04T10:39:16.152102Z",
          "shell.execute_reply.started": "2025-10-04T10:39:16.117191Z",
          "shell.execute_reply": "2025-10-04T10:39:16.151218Z"
        },
        "id": "m7JXDYFt0D2w",
        "outputId": "fa56ca74-7ad0-42af-8078-b0069a0512e7"
      },
      "outputs": [
        {
          "name": "stdout",
          "text": "              precision    recall  f1-score   support\n\n    Negative       0.85      0.89      0.87      5000\n    Positive       0.88      0.85      0.86      5000\n\n    accuracy                           0.87     10000\n   macro avg       0.87      0.87      0.87     10000\nweighted avg       0.87      0.87      0.87     10000\n\n",
          "output_type": "stream"
        }
      ],
      "execution_count": null
    },
    {
      "cell_type": "code",
      "source": [
        "from sklearn.metrics import confusion_matrix\n",
        "\n",
        "\n",
        "cm = confusion_matrix(test_df['sentiment'].values, bilstm_preds)\n",
        "\n",
        "sns.heatmap(cm, annot=True, fmt='d', cmap='Blues',\n",
        "            xticklabels=['Negative', 'Positive'],\n",
        "            yticklabels=['Negative', 'Positive'])\n",
        "plt.title('Confusion Matrix')\n",
        "plt.xlabel('Predicted')\n",
        "plt.ylabel('Actual')\n",
        "plt.show()\n"
      ],
      "metadata": {
        "trusted": true,
        "execution": {
          "iopub.status.busy": "2025-10-04T10:41:10.371409Z",
          "iopub.execute_input": "2025-10-04T10:41:10.37218Z",
          "iopub.status.idle": "2025-10-04T10:41:10.583806Z",
          "shell.execute_reply.started": "2025-10-04T10:41:10.372148Z",
          "shell.execute_reply": "2025-10-04T10:41:10.582634Z"
        },
        "id": "hNerqRpk0D2w",
        "outputId": "cb74e4f3-6fa8-446d-a6b6-b8e2eb0ee8b4"
      },
      "outputs": [
        {
          "output_type": "display_data",
          "data": {
            "text/plain": "<Figure size 640x480 with 2 Axes>",
            "image/png": "[encoded data removed]"
          },
          "metadata": {}
        }
      ],
      "execution_count": null
    }
  ]
}