{
  "metadata": {
    "kernelspec": {
      "language": "python",
      "display_name": "Python 3",
      "name": "python3"
    },
    "language_info": {
      "name": "python",
      "version": "3.10.14",
      "mimetype": "text/x-python",
      "codemirror_mode": {
        "name": "ipython",
        "version": 3
      },
      "pygments_lexer": "ipython3",
      "nbconvert_exporter": "python",
      "file_extension": ".py"
    },
    "kaggle": {
      "accelerator": "gpu",
      "dataSources": [
        {
          "sourceId": 320111,
          "sourceType": "datasetVersion",
          "datasetId": 134715
        }
      ],
      "dockerImageVersionId": 30762,
      "isInternetEnabled": true,
      "language": "python",
      "sourceType": "notebook",
      "isGpuEnabled": true
    },
    "colab": {
      "name": "NLP with IMDB: Classic Models (TF-IDF + BiLSTM)",
      "provenance": [],
      "include_colab_link": true
    }
  },
  "nbformat_minor": 0,
  "nbformat": 4,
  "cells": [
    {
      "cell_type": "markdown",
      "metadata": {
        "id": "view-in-github",
        "colab_type": "text"
      },
      "source": [
        "<a href=\"https://colab.research.google.com/github/i-ganza007/Sentiment_Analysis_Formative/blob/main/LSTM_Analysis.ipynb\" target=\"_parent\"><img src=\"https://colab.research.google.com/assets/colab-badge.svg\" alt=\"Open In Colab\"/></a>"
      ]
    },
    {
      "cell_type": "code",
      "source": [
        "import numpy as np\n",
        "import pandas as pd\n",
        "import matplotlib.pyplot as plt\n",
        "from gensim.models import Word2Vec\n",
        "from sklearn.metrics import accuracy_score, precision_score, recall_score, f1_score, confusion_matrix\n",
        "\n",
        "import re\n",
        "import nltk\n",
        "from nltk.corpus import stopwords\n",
        "from nltk.tokenize import word_tokenize\n",
        "nltk.download('punkt')\n",
        "nltk.download('omw-1.4')\n",
        "nltk.download('stopwords')\n",
        "\n",
        "from sklearn.model_selection import train_test_split\n",
        "from sklearn.metrics import accuracy_score\n",
        "from sklearn.linear_model import LogisticRegression\n",
        "\n",
        "\n",
        "import tensorflow as tf\n",
        "from tensorflow.keras.preprocessing.text import Tokenizer\n",
        "from tensorflow.keras.preprocessing.sequence import pad_sequences\n",
        "from tensorflow.keras.models import Sequential\n",
        "from tensorflow.keras.layers import (\n",
        "    LSTM, Bidirectional, Dense, Dropout, Masking\n",
        ")\n",
        "from tensorflow.keras.optimizers import Adam\n",
        "from tensorflow.keras import regularizers\n",
        "from tensorflow.keras.callbacks import EarlyStopping\n"
      ],
      "metadata": {
        "trusted": true,
        "execution": {
          "iopub.status.busy": "2025-09-30T16:51:42.157804Z",
          "iopub.execute_input": "2025-09-30T16:51:42.158683Z",
          "iopub.status.idle": "2025-09-30T16:51:52.150847Z",
          "shell.execute_reply.started": "2025-09-30T16:51:42.158645Z",
          "shell.execute_reply": "2025-09-30T16:51:52.149909Z"
        },
        "id": "KOLqbAmYoGnN",
        "outputId": "b41cb3b5-e6c2-423a-9d70-37b774605f51"
      },
      "outputs": [
        {
          "name": "stdout",
          "text": "[nltk_data] Downloading package punkt to /usr/share/nltk_data...\n[nltk_data]   Package punkt is already up-to-date!\n[nltk_data] Downloading package omw-1.4 to /usr/share/nltk_data...\n[nltk_data]   Package omw-1.4 is already up-to-date!\n[nltk_data] Downloading package stopwords to /usr/share/nltk_data...\n[nltk_data]   Package stopwords is already up-to-date!\n",
          "output_type": "stream"
        }
      ],
      "execution_count": null
    },
    {
      "cell_type": "code",
      "source": [
        "path = '/kaggle/input/imdb-dataset-of-50k-movie-reviews/IMDB Dataset.csv'\n",
        "df = pd.read_csv(path)\n",
        "\n",
        "df.head()"
      ],
      "metadata": {
        "trusted": true,
        "execution": {
          "iopub.status.busy": "2025-09-30T16:52:21.614283Z",
          "iopub.execute_input": "2025-09-30T16:52:21.614711Z",
          "iopub.status.idle": "2025-09-30T16:52:22.343129Z",
          "shell.execute_reply.started": "2025-09-30T16:52:21.614676Z",
          "shell.execute_reply": "2025-09-30T16:52:22.342009Z"
        },
        "id": "LYU4fW0UoGnQ",
        "outputId": "ffa83a23-123d-4514-af28-cef1a2c2587d"
      },
      "outputs": [
        {
          "execution_count": 4,
          "output_type": "execute_result",
          "data": {
            "text/plain": "                                              review sentiment\n0  One of the other reviewers has mentioned that ...  positive\n1  A wonderful little production. <br /><br />The...  positive\n2  I thought this was a wonderful way to spend ti...  positive\n3  Basically there's a family where a little boy ...  negative\n4  Petter Mattei's \"Love in the Time of Money\" is...  positive",
            "text/html": "<div>\n<style scoped>\n    .dataframe tbody tr th:only-of-type {\n        vertical-align: middle;\n    }\n\n    .dataframe tbody tr th {\n        vertical-align: top;\n    }\n\n    .dataframe thead th {\n        text-align: right;\n    }\n</style>\n<table border=\"1\" class=\"dataframe\">\n  <thead>\n    <tr style=\"text-align: right;\">\n      <th></th>\n      <th>review</th>\n      <th>sentiment</th>\n    </tr>\n  </thead>\n  <tbody>\n    <tr>\n      <th>0</th>\n      <td>One of the other reviewers has mentioned that ...</td>\n      <td>positive</td>\n    </tr>\n    <tr>\n      <th>1</th>\n      <td>A wonderful little production. &lt;br /&gt;&lt;br /&gt;The...</td>\n      <td>positive</td>\n    </tr>\n    <tr>\n      <th>2</th>\n      <td>I thought this was a wonderful way to spend ti...</td>\n      <td>positive</td>\n    </tr>\n    <tr>\n      <th>3</th>\n      <td>Basically there's a family where a little boy ...</td>\n      <td>negative</td>\n    </tr>\n    <tr>\n      <th>4</th>\n      <td>Petter Mattei's \"Love in the Time of Money\" is...</td>\n      <td>positive</td>\n    </tr>\n  </tbody>\n</table>\n</div>"
          },
          "metadata": {}
        }
      ],
      "execution_count": null
    },
    {
      "cell_type": "code",
      "source": [
        "stop_words = set(stopwords.words('english'))\n",
        "\n",
        "def preprocess_text(text):\n",
        "    text = text.lower()\n",
        "    text = re.sub(r'<.*?>', '', text)\n",
        "    text = re.sub(r'http\\S+|www\\S+', '', text)\n",
        "    text = re.sub(r'[^a-z\\s]', '', text)\n",
        "    text = re.sub(r'\\s+', ' ', text).strip()\n",
        "    tokens = text.split()\n",
        "    tokens = [word for word in tokens if word not in stop_words]\n",
        "    return \" \".join(tokens)\n",
        "\n",
        "df['clean_review'] = df['review'].apply(preprocess_text)\n",
        "\n",
        "df[['review', 'clean_review']].head()\n"
      ],
      "metadata": {
        "trusted": true,
        "execution": {
          "iopub.status.busy": "2025-09-30T16:53:07.425537Z",
          "iopub.execute_input": "2025-09-30T16:53:07.42599Z",
          "iopub.status.idle": "2025-09-30T16:53:15.132745Z",
          "shell.execute_reply.started": "2025-09-30T16:53:07.425956Z",
          "shell.execute_reply": "2025-09-30T16:53:15.131619Z"
        },
        "id": "G8s2BLYIoGnR",
        "outputId": "d66f124a-8bd6-475c-8168-94522161c7d5"
      },
      "outputs": [
        {
          "execution_count": 5,
          "output_type": "execute_result",
          "data": {
            "text/plain": "                                              review  \\\n0  One of the other reviewers has mentioned that ...   \n1  A wonderful little production. <br /><br />The...   \n2  I thought this was a wonderful way to spend ti...   \n3  Basically there's a family where a little boy ...   \n4  Petter Mattei's \"Love in the Time of Money\" is...   \n\n                                        clean_review  \n0  one reviewers mentioned watching oz episode yo...  \n1  wonderful little production filming technique ...  \n2  thought wonderful way spend time hot summer we...  \n3  basically theres family little boy jake thinks...  \n4  petter matteis love time money visually stunni...  ",
            "text/html": "<div>\n<style scoped>\n    .dataframe tbody tr th:only-of-type {\n        vertical-align: middle;\n    }\n\n    .dataframe tbody tr th {\n        vertical-align: top;\n    }\n\n    .dataframe thead th {\n        text-align: right;\n    }\n</style>\n<table border=\"1\" class=\"dataframe\">\n  <thead>\n    <tr style=\"text-align: right;\">\n      <th></th>\n      <th>review</th>\n      <th>clean_review</th>\n    </tr>\n  </thead>\n  <tbody>\n    <tr>\n      <th>0</th>\n      <td>One of the other reviewers has mentioned that ...</td>\n      <td>one reviewers mentioned watching oz episode yo...</td>\n    </tr>\n    <tr>\n      <th>1</th>\n      <td>A wonderful little production. &lt;br /&gt;&lt;br /&gt;The...</td>\n      <td>wonderful little production filming technique ...</td>\n    </tr>\n    <tr>\n      <th>2</th>\n      <td>I thought this was a wonderful way to spend ti...</td>\n      <td>thought wonderful way spend time hot summer we...</td>\n    </tr>\n    <tr>\n      <th>3</th>\n      <td>Basically there's a family where a little boy ...</td>\n      <td>basically theres family little boy jake thinks...</td>\n    </tr>\n    <tr>\n      <th>4</th>\n      <td>Petter Mattei's \"Love in the Time of Money\" is...</td>\n      <td>petter matteis love time money visually stunni...</td>\n    </tr>\n  </tbody>\n</table>\n</div>"
          },
          "metadata": {}
        }
      ],
      "execution_count": null
    },
    {
      "cell_type": "code",
      "source": [
        "df['sentiment'] = df['sentiment'].map({'negative': 0, 'positive': 1})"
      ],
      "metadata": {
        "trusted": true,
        "execution": {
          "iopub.status.busy": "2025-09-30T16:53:24.192114Z",
          "iopub.execute_input": "2025-09-30T16:53:24.193091Z",
          "iopub.status.idle": "2025-09-30T16:53:24.20291Z",
          "shell.execute_reply.started": "2025-09-30T16:53:24.193049Z",
          "shell.execute_reply": "2025-09-30T16:53:24.201683Z"
        },
        "id": "TP8GpdZCoGnU"
      },
      "outputs": [],
      "execution_count": null
    },
    {
      "cell_type": "code",
      "source": [
        "train_df, test_df = train_test_split(df, test_size=0.2, random_state=42, stratify=df['sentiment'])\n",
        "\n",
        "train_df, val_df = train_test_split(train_df, test_size=0.2, random_state=42, stratify=train_df['sentiment'])\n",
        "\n",
        "print(f\"Train size: {len(train_df)}\")\n",
        "print(f\"Validation size: {len(val_df)}\")\n",
        "print(f\"Test size: {len(test_df)}\")\n"
      ],
      "metadata": {
        "trusted": true,
        "execution": {
          "iopub.status.busy": "2025-09-30T16:53:32.718598Z",
          "iopub.execute_input": "2025-09-30T16:53:32.719757Z",
          "iopub.status.idle": "2025-09-30T16:53:32.775692Z",
          "shell.execute_reply.started": "2025-09-30T16:53:32.719709Z",
          "shell.execute_reply": "2025-09-30T16:53:32.774578Z"
        },
        "id": "dzeHp8o1oGnU",
        "outputId": "5074aaac-cc65-40ad-f069-c44bc7706143"
      },
      "outputs": [
        {
          "name": "stdout",
          "text": "Train size: 32000\nValidation size: 8000\nTest size: 10000\n",
          "output_type": "stream"
        }
      ],
      "execution_count": null
    },
    {
      "cell_type": "code",
      "source": [
        "train_df['tokens'] = train_df['clean_review'].apply(word_tokenize)\n",
        "val_df['tokens'] = val_df['clean_review'].apply(word_tokenize)\n",
        "test_df['tokens'] = test_df['clean_review'].apply(word_tokenize)\n",
        "\n",
        "train_df[['clean_review', 'tokens']].head()\n"
      ],
      "metadata": {
        "trusted": true,
        "execution": {
          "iopub.status.busy": "2025-09-30T16:53:37.503569Z",
          "iopub.execute_input": "2025-09-30T16:53:37.503975Z",
          "iopub.status.idle": "2025-09-30T16:54:05.536128Z",
          "shell.execute_reply.started": "2025-09-30T16:53:37.503943Z",
          "shell.execute_reply": "2025-09-30T16:54:05.534982Z"
        },
        "id": "0tWFTtB1oGnW",
        "outputId": "679fd70b-3d3e-4816-b931-dbb2c9c2e214"
      },
      "outputs": [
        {
          "execution_count": 8,
          "output_type": "execute_result",
          "data": {
            "text/plain": "                                            clean_review  \\\n26680  oh yes agree others describe appalling acting ...   \n16648  basic hook lincoln slow slowness represents th...   \n29967  utter trash im huge fan cusacks sole reason wa...   \n34122  meet cosmo jason priestley nerdy young bookie ...   \n823    dont know people criticise show muchit great f...   \n\n                                                  tokens  \n26680  [oh, yes, agree, others, describe, appalling, ...  \n16648  [basic, hook, lincoln, slow, slowness, represe...  \n29967  [utter, trash, im, huge, fan, cusacks, sole, r...  \n34122  [meet, cosmo, jason, priestley, nerdy, young, ...  \n823    [dont, know, people, criticise, show, muchit, ...  ",
            "text/html": "<div>\n<style scoped>\n    .dataframe tbody tr th:only-of-type {\n        vertical-align: middle;\n    }\n\n    .dataframe tbody tr th {\n        vertical-align: top;\n    }\n\n    .dataframe thead th {\n        text-align: right;\n    }\n</style>\n<table border=\"1\" class=\"dataframe\">\n  <thead>\n    <tr style=\"text-align: right;\">\n      <th></th>\n      <th>clean_review</th>\n      <th>tokens</th>\n    </tr>\n  </thead>\n  <tbody>\n    <tr>\n      <th>26680</th>\n      <td>oh yes agree others describe appalling acting ...</td>\n      <td>[oh, yes, agree, others, describe, appalling, ...</td>\n    </tr>\n    <tr>\n      <th>16648</th>\n      <td>basic hook lincoln slow slowness represents th...</td>\n      <td>[basic, hook, lincoln, slow, slowness, represe...</td>\n    </tr>\n    <tr>\n      <th>29967</th>\n      <td>utter trash im huge fan cusacks sole reason wa...</td>\n      <td>[utter, trash, im, huge, fan, cusacks, sole, r...</td>\n    </tr>\n    <tr>\n      <th>34122</th>\n      <td>meet cosmo jason priestley nerdy young bookie ...</td>\n      <td>[meet, cosmo, jason, priestley, nerdy, young, ...</td>\n    </tr>\n    <tr>\n      <th>823</th>\n      <td>dont know people criticise show muchit great f...</td>\n      <td>[dont, know, people, criticise, show, muchit, ...</td>\n    </tr>\n  </tbody>\n</table>\n</div>"
          },
          "metadata": {}
        }
      ],
      "execution_count": null
    },
    {
      "cell_type": "code",
      "source": [
        "\n",
        "w2v_model = Word2Vec(sentences=train_df['tokens'], vector_size=200, window=6, min_count=2)\n",
        "\n",
        "def tokens_to_sequence(tokens):\n",
        "    vectors = [w2v_model.wv[word] for word in tokens if word in w2v_model.wv]\n",
        "    return vectors\n",
        "\n",
        "X_train_seq_w2v = train_df['tokens'].apply(tokens_to_sequence).tolist()\n",
        "X_val_seq_w2v = val_df['tokens'].apply(tokens_to_sequence).tolist()\n",
        "X_test_seq_w2v = test_df['tokens'].apply(tokens_to_sequence).tolist()"
      ],
      "metadata": {
        "trusted": true,
        "execution": {
          "iopub.status.busy": "2025-09-30T16:54:11.26693Z",
          "iopub.execute_input": "2025-09-30T16:54:11.267409Z",
          "iopub.status.idle": "2025-09-30T16:54:51.104106Z",
          "shell.execute_reply.started": "2025-09-30T16:54:11.267366Z",
          "shell.execute_reply": "2025-09-30T16:54:51.102958Z"
        },
        "id": "US2-NK5UoGnW"
      },
      "outputs": [],
      "execution_count": null
    },
    {
      "cell_type": "code",
      "source": [
        "max_len = 280\n",
        "vector_size = 200\n",
        "\n",
        "X_train_seq_padded = pad_sequences(X_train_seq_w2v, maxlen=max_len,\n",
        "                                   dtype='float32',padding='post',\n",
        "                                   truncating='post', value=0.0)\n",
        "X_val_seq_padded = pad_sequences(X_val_seq_w2v, maxlen=max_len,\n",
        "                                 dtype='float32',padding='post',\n",
        "                                 truncating='post', value=0.0)\n",
        "X_test_seq_padded = pad_sequences(X_test_seq_w2v, maxlen=max_len,\n",
        "                                  dtype='float32',padding='post',\n",
        "                                  truncating='post', value=0.0)\n"
      ],
      "metadata": {
        "trusted": true,
        "execution": {
          "iopub.status.busy": "2025-09-30T16:54:56.933084Z",
          "iopub.execute_input": "2025-09-30T16:54:56.9339Z",
          "iopub.status.idle": "2025-09-30T16:55:02.638832Z",
          "shell.execute_reply.started": "2025-09-30T16:54:56.933859Z",
          "shell.execute_reply": "2025-09-30T16:55:02.63799Z"
        },
        "id": "o8vEXJCIoGnX"
      },
      "outputs": [],
      "execution_count": null
    },
    {
      "cell_type": "code",
      "source": [
        "model = Sequential([\n",
        "    Masking(mask_value=0.0, input_shape=(max_len, vector_size)),\n",
        "    Bidirectional(LSTM(256, return_sequences=True,\n",
        "                       kernel_regularizer=regularizers.l2(0.0005))),\n",
        "    Dropout(0.4),\n",
        "    Bidirectional(LSTM(128, kernel_regularizer=regularizers.l2(0.0005))),\n",
        "    Dropout(0.4),\n",
        "    Dense(64, activation='relu', kernel_regularizer=regularizers.l2(0.0005)),\n",
        "    Dropout(0.4),\n",
        "    Dense(32, activation='relu', kernel_regularizer=regularizers.l2(0.0005)),\n",
        "    Dropout(0.4),\n",
        "    Dense(1, activation='sigmoid')\n",
        "])\n",
        "\n",
        "model.compile(loss='binary_crossentropy',\n",
        "              optimizer= Adam(learning_rate=0.001),\n",
        "              metrics=['accuracy'])\n",
        "\n",
        "history = model.fit(X_train_seq_padded,\n",
        "                    train_df['sentiment'],\n",
        "                    epochs=12,\n",
        "                    batch_size=64,\n",
        "                    validation_data=(X_val_seq_padded, val_df['sentiment']))\n"
      ],
      "metadata": {
        "trusted": true,
        "execution": {
          "iopub.status.busy": "2025-09-30T16:55:10.983927Z",
          "iopub.execute_input": "2025-09-30T16:55:10.984337Z",
          "iopub.status.idle": "2025-09-30T17:05:03.226973Z",
          "shell.execute_reply.started": "2025-09-30T16:55:10.9843Z",
          "shell.execute_reply": "2025-09-30T17:05:03.225955Z"
        },
        "id": "fh_Voa4-oGnY",
        "outputId": "e157de1b-1726-46a8-f352-fc54203da171"
      },
      "outputs": [
        {
          "name": "stderr",
          "text": "/opt/conda/lib/python3.10/site-packages/keras/src/layers/core/masking.py:47: UserWarning: Do not pass an `input_shape`/`input_dim` argument to a layer. When using Sequential models, prefer using an `Input(shape)` object as the first layer in the model instead.\n  super().__init__(**kwargs)\n",
          "output_type": "stream"
        },
        {
          "name": "stdout",
          "text": "Epoch 1/12\n\u001b[1m500/500\u001b[0m \u001b[32m━━━━━━━━━━━━━━━━━━━━\u001b[0m\u001b[37m\u001b[0m \u001b[1m59s\u001b[0m 105ms/step - accuracy: 0.7825 - loss: 0.9491 - val_accuracy: 0.8558 - val_loss: 0.5070\nEpoch 2/12\n\u001b[1m500/500\u001b[0m \u001b[32m━━━━━━━━━━━━━━━━━━━━\u001b[0m\u001b[37m\u001b[0m \u001b[1m47s\u001b[0m 93ms/step - accuracy: 0.8585 - loss: 0.4862 - val_accuracy: 0.8799 - val_loss: 0.3802\nEpoch 3/12\n\u001b[1m500/500\u001b[0m \u001b[32m━━━━━━━━━━━━━━━━━━━━\u001b[0m\u001b[37m\u001b[0m \u001b[1m47s\u001b[0m 94ms/step - accuracy: 0.8691 - loss: 0.3983 - val_accuracy: 0.8848 - val_loss: 0.3423\nEpoch 4/12\n\u001b[1m500/500\u001b[0m \u001b[32m━━━━━━━━━━━━━━━━━━━━\u001b[0m\u001b[37m\u001b[0m \u001b[1m47s\u001b[0m 93ms/step - accuracy: 0.8773 - loss: 0.3652 - val_accuracy: 0.8830 - val_loss: 0.3288\nEpoch 5/12\n\u001b[1m500/500\u001b[0m \u001b[32m━━━━━━━━━━━━━━━━━━━━\u001b[0m\u001b[37m\u001b[0m \u001b[1m47s\u001b[0m 93ms/step - accuracy: 0.8815 - loss: 0.3482 - val_accuracy: 0.8855 - val_loss: 0.3320\nEpoch 6/12\n\u001b[1m500/500\u001b[0m \u001b[32m━━━━━━━━━━━━━━━━━━━━\u001b[0m\u001b[37m\u001b[0m \u001b[1m46s\u001b[0m 93ms/step - accuracy: 0.8881 - loss: 0.3283 - val_accuracy: 0.8710 - val_loss: 0.3487\nEpoch 7/12\n\u001b[1m500/500\u001b[0m \u001b[32m━━━━━━━━━━━━━━━━━━━━\u001b[0m\u001b[37m\u001b[0m \u001b[1m47s\u001b[0m 93ms/step - accuracy: 0.8897 - loss: 0.3212 - val_accuracy: 0.8802 - val_loss: 0.3245\nEpoch 8/12\n\u001b[1m500/500\u001b[0m \u001b[32m━━━━━━━━━━━━━━━━━━━━\u001b[0m\u001b[37m\u001b[0m \u001b[1m47s\u001b[0m 93ms/step - accuracy: 0.8965 - loss: 0.3089 - val_accuracy: 0.8859 - val_loss: 0.3184\nEpoch 9/12\n\u001b[1m500/500\u001b[0m \u001b[32m━━━━━━━━━━━━━━━━━━━━\u001b[0m\u001b[37m\u001b[0m \u001b[1m47s\u001b[0m 93ms/step - accuracy: 0.8987 - loss: 0.3083 - val_accuracy: 0.8871 - val_loss: 0.3134\nEpoch 10/12\n\u001b[1m500/500\u001b[0m \u001b[32m━━━━━━━━━━━━━━━━━━━━\u001b[0m\u001b[37m\u001b[0m \u001b[1m47s\u001b[0m 93ms/step - accuracy: 0.9027 - loss: 0.2990 - val_accuracy: 0.8898 - val_loss: 0.3252\nEpoch 11/12\n\u001b[1m500/500\u001b[0m \u001b[32m━━━━━━━━━━━━━━━━━━━━\u001b[0m\u001b[37m\u001b[0m \u001b[1m47s\u001b[0m 93ms/step - accuracy: 0.9075 - loss: 0.2856 - val_accuracy: 0.8873 - val_loss: 0.3326\nEpoch 12/12\n\u001b[1m500/500\u001b[0m \u001b[32m━━━━━━━━━━━━━━━━━━━━\u001b[0m\u001b[37m\u001b[0m \u001b[1m47s\u001b[0m 93ms/step - accuracy: 0.9073 - loss: 0.2881 - val_accuracy: 0.8844 - val_loss: 0.3269\n",
          "output_type": "stream"
        }
      ],
      "execution_count": null
    },
    {
      "cell_type": "code",
      "source": [
        "plt.plot(history.history['accuracy'], label='Training Accuracy')\n",
        "plt.plot(history.history['val_accuracy'], label='Validation Accuracy')\n",
        "plt.title('Training vs Validation Accuracy')\n",
        "plt.xlabel('Epochs')\n",
        "plt.ylabel('Accuracy')\n",
        "plt.legend()\n",
        "plt.show()"
      ],
      "metadata": {
        "trusted": true,
        "execution": {
          "iopub.status.busy": "2025-09-30T17:05:15.02575Z",
          "iopub.execute_input": "2025-09-30T17:05:15.026676Z",
          "iopub.status.idle": "2025-09-30T17:05:15.276702Z",
          "shell.execute_reply.started": "2025-09-30T17:05:15.026631Z",
          "shell.execute_reply": "2025-09-30T17:05:15.275554Z"
        },
        "id": "L4pN-rBJoGnZ",
        "outputId": "29109775-f762-48fb-b779-f11561c885ec"
      },
      "outputs": [
        {
          "output_type": "display_data",
          "data": {
            "text/plain": "<Figure size 640x480 with 1 Axes>",
            "image/png": "[encoded data removed]"
          },
          "metadata": {}
        }
      ],
      "execution_count": null
    },
    {
      "cell_type": "code",
      "source": [
        "from sklearn.metrics import classification_report\n",
        "print(classification_report(y_true, bilstm_preds, target_names=['Negative','Positive']))\n"
      ],
      "metadata": {
        "trusted": true,
        "execution": {
          "iopub.status.busy": "2025-09-30T17:12:15.162606Z",
          "iopub.execute_input": "2025-09-30T17:12:15.163114Z",
          "iopub.status.idle": "2025-09-30T17:12:15.182686Z",
          "shell.execute_reply.started": "2025-09-30T17:12:15.163075Z",
          "shell.execute_reply": "2025-09-30T17:12:15.181594Z"
        },
        "id": "bBjAG0UioGna",
        "outputId": "40b64085-c97c-47f8-99bd-629fa1f86b2c"
      },
      "outputs": [
        {
          "name": "stdout",
          "text": "              precision    recall  f1-score   support\n\n    Negative       0.92      0.85      0.88      5000\n    Positive       0.86      0.92      0.89      5000\n\n    accuracy                           0.89     10000\n   macro avg       0.89      0.89      0.89     10000\nweighted avg       0.89      0.89      0.89     10000\n\n",
          "output_type": "stream"
        }
      ],
      "execution_count": null
    },
    {
      "cell_type": "code",
      "source": [
        "import seaborn as sns\n",
        "\n",
        "sns.heatmap(cm, annot=True, fmt='d', cmap='Blues',\n",
        "            xticklabels=['Negative', 'Positive'],\n",
        "            yticklabels=['Negative', 'Positive'])\n",
        "plt.title('Confusion Matrix')\n",
        "plt.xlabel('Predicted')\n",
        "plt.ylabel('Actual')\n",
        "plt.show()\n"
      ],
      "metadata": {
        "trusted": true,
        "execution": {
          "iopub.status.busy": "2025-09-30T17:14:11.217383Z",
          "iopub.execute_input": "2025-09-30T17:14:11.218432Z",
          "iopub.status.idle": "2025-09-30T17:14:11.818216Z",
          "shell.execute_reply.started": "2025-09-30T17:14:11.218392Z",
          "shell.execute_reply": "2025-09-30T17:14:11.817178Z"
        },
        "id": "Vop-ymIooGnb",
        "outputId": "976ca13e-ef51-4f57-9438-b9c420de184e"
      },
      "outputs": [
        {
          "output_type": "display_data",
          "data": {
            "text/plain": "<Figure size 640x480 with 2 Axes>",
            "image/png": "[encoded data removed]"
          },
          "metadata": {}
        }
      ],
      "execution_count": null
    },
    {
      "cell_type": "code",
      "source": [
        "\n",
        "bilstm_probs = model.predict(X_test_seq_padded)\n",
        "bilstm_preds = (bilstm_probs > 0.5).astype(int).flatten()\n",
        "\n",
        "\n",
        "y_true = test_df['sentiment']\n",
        "\n",
        "prec = precision_score(y_true, bilstm_preds)\n",
        "rec = recall_score(y_true, bilstm_preds)\n",
        "f1 = f1_score(y_true, bilstm_preds)\n",
        "cm = confusion_matrix(y_true, bilstm_preds)\n",
        "acc = accuracy_score(y_true, bilstm_preds)\n",
        "\n",
        "print(f\"Accuracy: {acc:.4f}\")\n",
        "print(f\"Precision: {prec:.4f}\")\n",
        "print(f\"Recall: {rec:.4f}\")\n",
        "print(f\"F1-score: {f1:.4f}\")\n",
        "print(\"Confusion Matrix:\")\n",
        "print(cm)\n",
        "\n"
      ],
      "metadata": {
        "trusted": true,
        "execution": {
          "iopub.status.busy": "2025-09-30T17:10:23.340168Z",
          "iopub.execute_input": "2025-09-30T17:10:23.34108Z",
          "iopub.status.idle": "2025-09-30T17:10:36.441805Z",
          "shell.execute_reply.started": "2025-09-30T17:10:23.341043Z",
          "shell.execute_reply": "2025-09-30T17:10:36.440604Z"
        },
        "id": "3IpWZZtHoGnb",
        "outputId": "56fad5b9-2352-4dc1-cc6e-6d687689cb19"
      },
      "outputs": [
        {
          "name": "stdout",
          "text": "\u001b[1m313/313\u001b[0m \u001b[32m━━━━━━━━━━━━━━━━━━━━\u001b[0m\u001b[37m\u001b[0m \u001b[1m7s\u001b[0m 22ms/step\nAccuracy: 0.8854\nPrecision: 0.8575\nRecall: 0.9244\nF1-score: 0.8897\nConfusion Matrix:\n[[4232  768]\n [ 378 4622]]\n",
          "output_type": "stream"
        }
      ],
      "execution_count": null
    }
  ]
}